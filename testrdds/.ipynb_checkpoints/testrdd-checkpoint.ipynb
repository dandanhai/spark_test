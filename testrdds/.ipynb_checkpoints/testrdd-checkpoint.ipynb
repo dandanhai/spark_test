{
 "cells": [
  {
   "cell_type": "code",
   "execution_count": 1,
   "id": "a0eac8cb",
   "metadata": {
    "scrolled": true
   },
   "outputs": [
    {
     "name": "stdout",
     "output_type": "stream",
     "text": [
      "23/02/18 15:38:51 WARN Utils: Your hostname, Dans-MacBook-Pro.local resolves to a loopback address: 127.0.0.1; using 192.168.1.21 instead (on interface en0)\n",
      "23/02/18 15:38:51 WARN Utils: Set SPARK_LOCAL_IP if you need to bind to another address\n"
     ]
    },
    {
     "name": "stderr",
     "output_type": "stream",
     "text": [
      "Setting default log level to \"WARN\".\n",
      "To adjust logging level use sc.setLogLevel(newLevel). For SparkR, use setLogLevel(newLevel).\n"
     ]
    },
    {
     "name": "stdout",
     "output_type": "stream",
     "text": [
      "23/02/18 15:38:51 WARN NativeCodeLoader: Unable to load native-hadoop library for your platform... using builtin-java classes where applicable\n"
     ]
    }
   ],
   "source": [
    "from pyspark.sql import SparkSession\n",
    "spark = (SparkSession.builder.appName('TestingRDDS').getOrCreate())"
   ]
  },
  {
   "cell_type": "code",
   "execution_count": 10,
   "id": "2737edad",
   "metadata": {},
   "outputs": [],
   "source": [
    "words_list = \"Spark make life a lot easier and put me into good Spirits, Spark is too good\".split(\" \")"
   ]
  },
  {
   "cell_type": "code",
   "execution_count": 11,
   "id": "070a36ca",
   "metadata": {},
   "outputs": [
    {
     "data": {
      "text/plain": [
       "list"
      ]
     },
     "execution_count": 11,
     "metadata": {},
     "output_type": "execute_result"
    }
   ],
   "source": [
    "type(words_list)"
   ]
  },
  {
   "cell_type": "code",
   "execution_count": 12,
   "id": "4296c184",
   "metadata": {},
   "outputs": [
    {
     "name": "stdout",
     "output_type": "stream",
     "text": [
      "['Spark', 'make', 'life', 'a', 'lot', 'easier', 'and', 'put', 'me', 'into', 'good', 'Spirits,', 'Spark', 'is', 'too', 'good']\n"
     ]
    }
   ],
   "source": [
    "print(words_list)"
   ]
  },
  {
   "cell_type": "code",
   "execution_count": 13,
   "id": "c3ac19ef",
   "metadata": {},
   "outputs": [],
   "source": [
    "words_rdd = spark.sparkContext.parallelize(words_list)"
   ]
  },
  {
   "cell_type": "code",
   "execution_count": 14,
   "id": "4ec18293",
   "metadata": {},
   "outputs": [],
   "source": [
    "words_data = words_rdd.collect()"
   ]
  },
  {
   "cell_type": "code",
   "execution_count": 15,
   "id": "dc1b4a88",
   "metadata": {},
   "outputs": [
    {
     "name": "stdout",
     "output_type": "stream",
     "text": [
      "Spark\n",
      "make\n",
      "life\n",
      "a\n",
      "lot\n",
      "easier\n",
      "and\n",
      "put\n",
      "me\n",
      "into\n",
      "good\n",
      "Spirits,\n",
      "Spark\n",
      "is\n",
      "too\n",
      "good\n"
     ]
    }
   ],
   "source": [
    "for word in words_data:\n",
    "    print(word)"
   ]
  },
  {
   "cell_type": "code",
   "execution_count": 16,
   "id": "f61473fe",
   "metadata": {},
   "outputs": [
    {
     "name": "stderr",
     "output_type": "stream",
     "text": [
      "\r",
      "[Stage 2:>                                                          (0 + 8) / 8]\r",
      "\r",
      "                                                                                \r"
     ]
    },
    {
     "data": {
      "text/plain": [
       "16"
      ]
     },
     "execution_count": 16,
     "metadata": {},
     "output_type": "execute_result"
    }
   ],
   "source": [
    "words_rdd.count()"
   ]
  },
  {
   "cell_type": "code",
   "execution_count": 17,
   "id": "c5daf0e5",
   "metadata": {},
   "outputs": [
    {
     "data": {
      "text/plain": [
       "14"
      ]
     },
     "execution_count": 17,
     "metadata": {},
     "output_type": "execute_result"
    }
   ],
   "source": [
    "words_rdd.distinct().count()"
   ]
  },
  {
   "cell_type": "code",
   "execution_count": 18,
   "id": "40d31e01",
   "metadata": {},
   "outputs": [],
   "source": [
    "words_unique_rdd = words_rdd.distinct()"
   ]
  },
  {
   "cell_type": "code",
   "execution_count": 19,
   "id": "43ab94c3",
   "metadata": {},
   "outputs": [
    {
     "name": "stdout",
     "output_type": "stream",
     "text": [
      "good\n",
      "life\n",
      "a\n",
      "lot\n",
      "Spark\n",
      "Spirits,\n",
      "easier\n",
      "too\n",
      "put\n",
      "and\n",
      "make\n",
      "into\n",
      "is\n",
      "me\n"
     ]
    }
   ],
   "source": [
    "for word in words_unique_rdd.collect():\n",
    "    print(word)"
   ]
  },
  {
   "cell_type": "code",
   "execution_count": 21,
   "id": "59e85a9b",
   "metadata": {},
   "outputs": [],
   "source": [
    "def wordStartsWith(word, letter):\n",
    "    return word.startswith(letter)"
   ]
  },
  {
   "cell_type": "code",
   "execution_count": 22,
   "id": "933bc593",
   "metadata": {},
   "outputs": [
    {
     "data": {
      "text/plain": [
       "['Spark', 'Spirits,', 'Spark']"
      ]
     },
     "execution_count": 22,
     "metadata": {},
     "output_type": "execute_result"
    }
   ],
   "source": [
    "words_rdd.filter(lambda word: wordStartsWith(word, 'S')).collect()"
   ]
  },
  {
   "cell_type": "code",
   "execution_count": 25,
   "id": "a5c4b631",
   "metadata": {},
   "outputs": [],
   "source": [
    "num_list = [*range(1,21)]"
   ]
  },
  {
   "cell_type": "code",
   "execution_count": 26,
   "id": "7404ec77",
   "metadata": {},
   "outputs": [
    {
     "data": {
      "text/plain": [
       "[1, 2, 3, 4, 5, 6, 7, 8, 9, 10, 11, 12, 13, 14, 15, 16, 17, 18, 19, 20]"
      ]
     },
     "execution_count": 26,
     "metadata": {},
     "output_type": "execute_result"
    }
   ],
   "source": [
    "num_list"
   ]
  },
  {
   "cell_type": "code",
   "execution_count": 27,
   "id": "5ef396a4",
   "metadata": {},
   "outputs": [],
   "source": [
    "nums_rdd = spark.sparkContext.parallelize(num_list)"
   ]
  },
  {
   "cell_type": "code",
   "execution_count": 28,
   "id": "f3634644",
   "metadata": {},
   "outputs": [],
   "source": [
    "nums_squared_rdd = nums_rdd.map(lambda n: (n, n**2))"
   ]
  },
  {
   "cell_type": "code",
   "execution_count": 29,
   "id": "bda64181",
   "metadata": {},
   "outputs": [
    {
     "name": "stdout",
     "output_type": "stream",
     "text": [
      "(1, 1)\n",
      "(2, 4)\n",
      "(3, 9)\n",
      "(4, 16)\n",
      "(5, 25)\n",
      "(6, 36)\n",
      "(7, 49)\n",
      "(8, 64)\n",
      "(9, 81)\n",
      "(10, 100)\n",
      "(11, 121)\n",
      "(12, 144)\n",
      "(13, 169)\n",
      "(14, 196)\n",
      "(15, 225)\n",
      "(16, 256)\n",
      "(17, 289)\n",
      "(18, 324)\n",
      "(19, 361)\n",
      "(20, 400)\n"
     ]
    }
   ],
   "source": [
    "for element in nums_squared_rdd.collect():\n",
    "    print(element)"
   ]
  },
  {
   "cell_type": "code",
   "execution_count": 30,
   "id": "eec626d0",
   "metadata": {},
   "outputs": [],
   "source": [
    "words_trd_rdd = words_rdd.map(lambda word: (word, word[0], wordStartsWith(word, 'S')))"
   ]
  },
  {
   "cell_type": "code",
   "execution_count": 31,
   "id": "6ef72bce",
   "metadata": {},
   "outputs": [
    {
     "name": "stdout",
     "output_type": "stream",
     "text": [
      "('Spark', 'S', True)\n",
      "('make', 'm', False)\n",
      "('life', 'l', False)\n",
      "('a', 'a', False)\n",
      "('lot', 'l', False)\n",
      "('easier', 'e', False)\n",
      "('and', 'a', False)\n",
      "('put', 'p', False)\n",
      "('me', 'm', False)\n",
      "('into', 'i', False)\n",
      "('good', 'g', False)\n",
      "('Spirits,', 'S', True)\n",
      "('Spark', 'S', True)\n",
      "('is', 'i', False)\n",
      "('too', 't', False)\n",
      "('good', 'g', False)\n"
     ]
    }
   ],
   "source": [
    "for element in words_trd_rdd.collect():\n",
    "    print(element)"
   ]
  },
  {
   "cell_type": "code",
   "execution_count": 32,
   "id": "bae9d44f",
   "metadata": {},
   "outputs": [
    {
     "data": {
      "text/plain": [
       "['S', 'p', 'a', 'r', 'k', 'm', 'a', 'k', 'e', 'l']"
      ]
     },
     "execution_count": 32,
     "metadata": {},
     "output_type": "execute_result"
    }
   ],
   "source": [
    "words_rdd.flatMap(lambda word: list(word)).take(10)"
   ]
  },
  {
   "cell_type": "code",
   "execution_count": 33,
   "id": "96deb3cc",
   "metadata": {},
   "outputs": [],
   "source": [
    "country_list = [(\"India\", 91), (\"USA\", 4), (\"Greece\", 13)]"
   ]
  },
  {
   "cell_type": "code",
   "execution_count": 34,
   "id": "383b1c18",
   "metadata": {},
   "outputs": [],
   "source": [
    "country_rdd = spark.sparkContext.parallelize(country_list)"
   ]
  },
  {
   "cell_type": "code",
   "execution_count": 35,
   "id": "e2b2b030",
   "metadata": {},
   "outputs": [],
   "source": [
    "srtd_country_list = country_rdd.sortByKey().collect()"
   ]
  },
  {
   "cell_type": "code",
   "execution_count": 36,
   "id": "c3ad4428",
   "metadata": {},
   "outputs": [
    {
     "name": "stdout",
     "output_type": "stream",
     "text": [
      "('Greece', 13)\n",
      "('India', 91)\n",
      "('USA', 4)\n"
     ]
    }
   ],
   "source": [
    "for country in srtd_country_list:\n",
    "    print(country)"
   ]
  },
  {
   "cell_type": "code",
   "execution_count": 37,
   "id": "c178ef78",
   "metadata": {},
   "outputs": [],
   "source": [
    "srtd_country_list = country_rdd.map(lambda c: (c[1], c[0])).sortByKey(False).collect()"
   ]
  },
  {
   "cell_type": "code",
   "execution_count": 38,
   "id": "b394ecb6",
   "metadata": {},
   "outputs": [
    {
     "name": "stdout",
     "output_type": "stream",
     "text": [
      "(91, 'India')\n",
      "(13, 'Greece')\n",
      "(4, 'USA')\n"
     ]
    }
   ],
   "source": [
    "for country in srtd_country_list:\n",
    "    print(country)"
   ]
  },
  {
   "cell_type": "code",
   "execution_count": 39,
   "id": "8bc3f127",
   "metadata": {},
   "outputs": [],
   "source": [
    "num_list = [1, 5, 2, 4]"
   ]
  },
  {
   "cell_type": "raw",
   "id": "20f5277f",
   "metadata": {},
   "source": []
  }
 ],
 "metadata": {
  "kernelspec": {
   "display_name": "Python 3 (ipykernel)",
   "language": "python",
   "name": "python3"
  },
  "language_info": {
   "codemirror_mode": {
    "name": "ipython",
    "version": 3
   },
   "file_extension": ".py",
   "mimetype": "text/x-python",
   "name": "python",
   "nbconvert_exporter": "python",
   "pygments_lexer": "ipython3",
   "version": "3.10.9"
  },
  "toc": {
   "base_numbering": 1,
   "nav_menu": {},
   "number_sections": true,
   "sideBar": true,
   "skip_h1_title": false,
   "title_cell": "Table of Contents",
   "title_sidebar": "Contents",
   "toc_cell": false,
   "toc_position": {},
   "toc_section_display": true,
   "toc_window_display": false
  }
 },
 "nbformat": 4,
 "nbformat_minor": 5
}
