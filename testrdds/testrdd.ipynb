{
 "cells": [
  {
   "cell_type": "code",
   "execution_count": 1,
   "id": "fca4ccbd",
   "metadata": {
    "scrolled": true
   },
   "outputs": [
    {
     "name": "stdout",
     "output_type": "stream",
     "text": [
      "23/02/18 15:38:51 WARN Utils: Your hostname, Dans-MacBook-Pro.local resolves to a loopback address: 127.0.0.1; using 192.168.1.21 instead (on interface en0)\n",
      "23/02/18 15:38:51 WARN Utils: Set SPARK_LOCAL_IP if you need to bind to another address\n"
     ]
    },
    {
     "name": "stderr",
     "output_type": "stream",
     "text": [
      "Setting default log level to \"WARN\".\n",
      "To adjust logging level use sc.setLogLevel(newLevel). For SparkR, use setLogLevel(newLevel).\n"
     ]
    },
    {
     "name": "stdout",
     "output_type": "stream",
     "text": [
      "23/02/18 15:38:51 WARN NativeCodeLoader: Unable to load native-hadoop library for your platform... using builtin-java classes where applicable\n"
     ]
    }
   ],
   "source": [
    "from pyspark.sql import SparkSession\n",
    "spark = (SparkSession.builder.appName('TestingRDDS').getOrCreate())"
   ]
  },
  {
   "cell_type": "code",
   "execution_count": 10,
   "id": "2cfa4322",
   "metadata": {},
   "outputs": [],
   "source": [
    "words_list = \"Spark make life a lot easier and put me into good Spirits, Spark is too good\".split(\" \")"
   ]
  },
  {
   "cell_type": "code",
   "execution_count": 11,
   "id": "fe811528",
   "metadata": {},
   "outputs": [
    {
     "data": {
      "text/plain": [
       "list"
      ]
     },
     "execution_count": 11,
     "metadata": {},
     "output_type": "execute_result"
    }
   ],
   "source": [
    "type(words_list)"
   ]
  },
  {
   "cell_type": "code",
   "execution_count": 12,
   "id": "39017693",
   "metadata": {},
   "outputs": [
    {
     "name": "stdout",
     "output_type": "stream",
     "text": [
      "['Spark', 'make', 'life', 'a', 'lot', 'easier', 'and', 'put', 'me', 'into', 'good', 'Spirits,', 'Spark', 'is', 'too', 'good']\n"
     ]
    }
   ],
   "source": [
    "print(words_list)"
   ]
  },
  {
   "cell_type": "code",
   "execution_count": 13,
   "id": "f2cd4772",
   "metadata": {},
   "outputs": [],
   "source": [
    "words_rdd = spark.sparkContext.parallelize(words_list)"
   ]
  },
  {
   "cell_type": "code",
   "execution_count": 14,
   "id": "c9191f99",
   "metadata": {},
   "outputs": [],
   "source": [
    "words_data = words_rdd.collect()"
   ]
  },
  {
   "cell_type": "code",
   "execution_count": 15,
   "id": "7fdf4733",
   "metadata": {},
   "outputs": [
    {
     "name": "stdout",
     "output_type": "stream",
     "text": [
      "Spark\n",
      "make\n",
      "life\n",
      "a\n",
      "lot\n",
      "easier\n",
      "and\n",
      "put\n",
      "me\n",
      "into\n",
      "good\n",
      "Spirits,\n",
      "Spark\n",
      "is\n",
      "too\n",
      "good\n"
     ]
    }
   ],
   "source": [
    "for word in words_data:\n",
    "    print(word)"
   ]
  },
  {
   "cell_type": "code",
   "execution_count": 16,
   "id": "776dc11d",
   "metadata": {},
   "outputs": [
    {
     "name": "stderr",
     "output_type": "stream",
     "text": [
      "\r",
      "[Stage 2:>                                                          (0 + 8) / 8]\r",
      "\r",
      "                                                                                \r"
     ]
    },
    {
     "data": {
      "text/plain": [
       "16"
      ]
     },
     "execution_count": 16,
     "metadata": {},
     "output_type": "execute_result"
    }
   ],
   "source": [
    "words_rdd.count()"
   ]
  },
  {
   "cell_type": "code",
   "execution_count": 17,
   "id": "e463a123",
   "metadata": {},
   "outputs": [
    {
     "data": {
      "text/plain": [
       "14"
      ]
     },
     "execution_count": 17,
     "metadata": {},
     "output_type": "execute_result"
    }
   ],
   "source": [
    "words_rdd.distinct().count()"
   ]
  },
  {
   "cell_type": "code",
   "execution_count": 18,
   "id": "42695ca5",
   "metadata": {},
   "outputs": [],
   "source": [
    "words_unique_rdd = words_rdd.distinct()"
   ]
  },
  {
   "cell_type": "code",
   "execution_count": 19,
   "id": "767de460",
   "metadata": {},
   "outputs": [
    {
     "name": "stdout",
     "output_type": "stream",
     "text": [
      "good\n",
      "life\n",
      "a\n",
      "lot\n",
      "Spark\n",
      "Spirits,\n",
      "easier\n",
      "too\n",
      "put\n",
      "and\n",
      "make\n",
      "into\n",
      "is\n",
      "me\n"
     ]
    }
   ],
   "source": [
    "for word in words_unique_rdd.collect():\n",
    "    print(word)"
   ]
  },
  {
   "cell_type": "code",
   "execution_count": 21,
   "id": "8661e1ca",
   "metadata": {},
   "outputs": [],
   "source": [
    "def wordStartsWith(word, letter):\n",
    "    return word.startswith(letter)"
   ]
  },
  {
   "cell_type": "code",
   "execution_count": 22,
   "id": "f12019f6",
   "metadata": {},
   "outputs": [
    {
     "data": {
      "text/plain": [
       "['Spark', 'Spirits,', 'Spark']"
      ]
     },
     "execution_count": 22,
     "metadata": {},
     "output_type": "execute_result"
    }
   ],
   "source": [
    "words_rdd.filter(lambda word: wordStartsWith(word, 'S')).collect()"
   ]
  },
  {
   "cell_type": "code",
   "execution_count": 25,
   "id": "9fce999a",
   "metadata": {},
   "outputs": [],
   "source": [
    "num_list = [*range(1,21)]"
   ]
  },
  {
   "cell_type": "code",
   "execution_count": 26,
   "id": "26c29b9e",
   "metadata": {},
   "outputs": [
    {
     "data": {
      "text/plain": [
       "[1, 2, 3, 4, 5, 6, 7, 8, 9, 10, 11, 12, 13, 14, 15, 16, 17, 18, 19, 20]"
      ]
     },
     "execution_count": 26,
     "metadata": {},
     "output_type": "execute_result"
    }
   ],
   "source": [
    "num_list"
   ]
  },
  {
   "cell_type": "code",
   "execution_count": 27,
   "id": "591f8c92",
   "metadata": {},
   "outputs": [],
   "source": [
    "nums_rdd = spark.sparkContext.parallelize(num_list)"
   ]
  },
  {
   "cell_type": "code",
   "execution_count": 28,
   "id": "b65f1f3c",
   "metadata": {},
   "outputs": [],
   "source": [
    "nums_squared_rdd = nums_rdd.map(lambda n: (n, n**2))"
   ]
  },
  {
   "cell_type": "code",
   "execution_count": 29,
   "id": "24b24953",
   "metadata": {},
   "outputs": [
    {
     "name": "stdout",
     "output_type": "stream",
     "text": [
      "(1, 1)\n",
      "(2, 4)\n",
      "(3, 9)\n",
      "(4, 16)\n",
      "(5, 25)\n",
      "(6, 36)\n",
      "(7, 49)\n",
      "(8, 64)\n",
      "(9, 81)\n",
      "(10, 100)\n",
      "(11, 121)\n",
      "(12, 144)\n",
      "(13, 169)\n",
      "(14, 196)\n",
      "(15, 225)\n",
      "(16, 256)\n",
      "(17, 289)\n",
      "(18, 324)\n",
      "(19, 361)\n",
      "(20, 400)\n"
     ]
    }
   ],
   "source": [
    "for element in nums_squared_rdd.collect():\n",
    "    print(element)"
   ]
  },
  {
   "cell_type": "code",
   "execution_count": 30,
   "id": "dc0f8677",
   "metadata": {},
   "outputs": [],
   "source": [
    "words_trd_rdd = words_rdd.map(lambda word: (word, word[0], wordStartsWith(word, 'S')))"
   ]
  },
  {
   "cell_type": "code",
   "execution_count": 31,
   "id": "021a999e",
   "metadata": {},
   "outputs": [
    {
     "name": "stdout",
     "output_type": "stream",
     "text": [
      "('Spark', 'S', True)\n",
      "('make', 'm', False)\n",
      "('life', 'l', False)\n",
      "('a', 'a', False)\n",
      "('lot', 'l', False)\n",
      "('easier', 'e', False)\n",
      "('and', 'a', False)\n",
      "('put', 'p', False)\n",
      "('me', 'm', False)\n",
      "('into', 'i', False)\n",
      "('good', 'g', False)\n",
      "('Spirits,', 'S', True)\n",
      "('Spark', 'S', True)\n",
      "('is', 'i', False)\n",
      "('too', 't', False)\n",
      "('good', 'g', False)\n"
     ]
    }
   ],
   "source": [
    "for element in words_trd_rdd.collect():\n",
    "    print(element)"
   ]
  },
  {
   "cell_type": "code",
   "execution_count": 32,
   "id": "5db5485e",
   "metadata": {},
   "outputs": [
    {
     "data": {
      "text/plain": [
       "['S', 'p', 'a', 'r', 'k', 'm', 'a', 'k', 'e', 'l']"
      ]
     },
     "execution_count": 32,
     "metadata": {},
     "output_type": "execute_result"
    }
   ],
   "source": [
    "words_rdd.flatMap(lambda word: list(word)).take(10)"
   ]
  },
  {
   "cell_type": "code",
   "execution_count": 33,
   "id": "b7ac6fd1",
   "metadata": {},
   "outputs": [],
   "source": [
    "country_list = [(\"India\", 91), (\"USA\", 4), (\"Greece\", 13)]"
   ]
  },
  {
   "cell_type": "code",
   "execution_count": 34,
   "id": "7ea9524f",
   "metadata": {},
   "outputs": [],
   "source": [
    "country_rdd = spark.sparkContext.parallelize(country_list)"
   ]
  },
  {
   "cell_type": "code",
   "execution_count": 35,
   "id": "a41f2521",
   "metadata": {},
   "outputs": [],
   "source": [
    "srtd_country_list = country_rdd.sortByKey().collect()"
   ]
  },
  {
   "cell_type": "code",
   "execution_count": 36,
   "id": "1c48344a",
   "metadata": {},
   "outputs": [
    {
     "name": "stdout",
     "output_type": "stream",
     "text": [
      "('Greece', 13)\n",
      "('India', 91)\n",
      "('USA', 4)\n"
     ]
    }
   ],
   "source": [
    "for country in srtd_country_list:\n",
    "    print(country)"
   ]
  },
  {
   "cell_type": "code",
   "execution_count": 37,
   "id": "04dbad8a",
   "metadata": {},
   "outputs": [],
   "source": [
    "srtd_country_list = country_rdd.map(lambda c: (c[1], c[0])).sortByKey(False).collect()"
   ]
  },
  {
   "cell_type": "code",
   "execution_count": 38,
   "id": "515ae069",
   "metadata": {},
   "outputs": [
    {
     "name": "stdout",
     "output_type": "stream",
     "text": [
      "(91, 'India')\n",
      "(13, 'Greece')\n",
      "(4, 'USA')\n"
     ]
    }
   ],
   "source": [
    "for country in srtd_country_list:\n",
    "    print(country)"
   ]
  },
  {
   "cell_type": "code",
   "execution_count": 39,
   "id": "e4e804ad",
   "metadata": {},
   "outputs": [],
   "source": [
    "num_list = [1, 5, 2, 4]"
   ]
  },
  {
   "cell_type": "code",
   "execution_count": 40,
   "id": "e0f256ac",
   "metadata": {},
   "outputs": [],
   "source": [
    "result = spark.sparkContext.parallelize(num_list).reduce(lambda x, y: x + y)"
   ]
  },
  {
   "cell_type": "code",
   "execution_count": 41,
   "id": "24f98f5c",
   "metadata": {},
   "outputs": [
    {
     "name": "stdout",
     "output_type": "stream",
     "text": [
      "12\n"
     ]
    }
   ],
   "source": [
    "print(result)"
   ]
  },
  {
   "cell_type": "code",
   "execution_count": 42,
   "id": "633446ca",
   "metadata": {},
   "outputs": [],
   "source": [
    "def sum_list(x, y):\n",
    "    print(x, y)\n",
    "    return x + y"
   ]
  },
  {
   "cell_type": "code",
   "execution_count": 43,
   "id": "73325bea",
   "metadata": {},
   "outputs": [
    {
     "name": "stdout",
     "output_type": "stream",
     "text": [
      "1 5\n",
      "6 2\n",
      "8 4\n",
      "12\n"
     ]
    }
   ],
   "source": [
    "result = spark.sparkContext.parallelize(num_list).reduce(lambda x, y: sum_list(x,y))\n",
    "print(result)"
   ]
  },
  {
   "cell_type": "code",
   "execution_count": 44,
   "id": "a9d5dbd0",
   "metadata": {},
   "outputs": [],
   "source": [
    "def wordlengthreducer(leftWord, rightWord):\n",
    "    if len(leftWord) > len(rightWord):\n",
    "        return leftWord\n",
    "    else:\n",
    "        return rightWord"
   ]
  },
  {
   "cell_type": "code",
   "execution_count": 45,
   "id": "bee3149d",
   "metadata": {},
   "outputs": [
    {
     "data": {
      "text/plain": [
       "'Spirits,'"
      ]
     },
     "execution_count": 45,
     "metadata": {},
     "output_type": "execute_result"
    }
   ],
   "source": [
    "words_rdd.reduce(wordlengthreducer)"
   ]
  },
  {
   "cell_type": "code",
   "execution_count": 47,
   "id": "c829d642",
   "metadata": {},
   "outputs": [
    {
     "ename": "AttributeError",
     "evalue": "'RDD' object has no attribute 'last'",
     "output_type": "error",
     "traceback": [
      "\u001b[0;31m---------------------------------------------------------------------------\u001b[0m",
      "\u001b[0;31mAttributeError\u001b[0m                            Traceback (most recent call last)",
      "Cell \u001b[0;32mIn[47], line 1\u001b[0m\n\u001b[0;32m----> 1\u001b[0m \u001b[43mwords_rdd\u001b[49m\u001b[38;5;241;43m.\u001b[39;49m\u001b[43mlast\u001b[49m()\n",
      "\u001b[0;31mAttributeError\u001b[0m: 'RDD' object has no attribute 'last'"
     ]
    }
   ],
   "source": []
  },
  {
   "cell_type": "code",
   "execution_count": 50,
   "id": "6dc99fa7",
   "metadata": {},
   "outputs": [
    {
     "data": {
      "text/plain": [
       "20"
      ]
     },
     "execution_count": 50,
     "metadata": {},
     "output_type": "execute_result"
    }
   ],
   "source": [
    "spark.sparkContext.parallelize(range(1, 21)).max()"
   ]
  },
  {
   "cell_type": "code",
   "execution_count": 51,
   "id": "1182b4ab",
   "metadata": {},
   "outputs": [
    {
     "data": {
      "text/plain": [
       "1"
      ]
     },
     "execution_count": 51,
     "metadata": {},
     "output_type": "execute_result"
    }
   ],
   "source": [
    "spark.sparkContext.parallelize(range(1, 21)).min()"
   ]
  },
  {
   "cell_type": "code",
   "execution_count": 52,
   "id": "7bccb4cb",
   "metadata": {},
   "outputs": [],
   "source": [
    "#exercise on daily temparature\n",
    "# c= (f-32) * 5/9\n",
    "temp = [(\"day1\", 59), (\"day2\", 57.2), (\"day3\", 53.6), (\"day4\", 55.4), (\"day5\", 51.8),\n",
    "       (\"day6\", 53.6), (\"day7\", 55.4)]"
   ]
  },
  {
   "cell_type": "code",
   "execution_count": 70,
   "id": "5199ffb2",
   "metadata": {},
   "outputs": [],
   "source": [
    "templist = [59, 57.2, 53.6, 55.4, 51.8, 53.8, 55.4]"
   ]
  },
  {
   "cell_type": "code",
   "execution_count": 71,
   "id": "4917ab86",
   "metadata": {},
   "outputs": [],
   "source": [
    "tempRDD = spark.sparkContext.parallelize(templist)"
   ]
  },
  {
   "cell_type": "code",
   "execution_count": 72,
   "id": "4b4475ed",
   "metadata": {},
   "outputs": [],
   "source": [
    "def f_to_c(a):\n",
    "    return (a-32) * 5/9"
   ]
  },
  {
   "cell_type": "code",
   "execution_count": 73,
   "id": "8206cb0d",
   "metadata": {},
   "outputs": [],
   "source": [
    "output = tempRDD.map(f_to_c)\n"
   ]
  },
  {
   "cell_type": "code",
   "execution_count": 74,
   "id": "68b424d1",
   "metadata": {},
   "outputs": [
    {
     "data": {
      "text/plain": [
       "[15.0,\n",
       " 14.000000000000002,\n",
       " 12.0,\n",
       " 13.0,\n",
       " 10.999999999999998,\n",
       " 12.111111111111109,\n",
       " 13.0]"
      ]
     },
     "execution_count": 74,
     "metadata": {},
     "output_type": "execute_result"
    }
   ],
   "source": [
    "output.collect()"
   ]
  },
  {
   "cell_type": "code",
   "execution_count": 75,
   "id": "ff2edef1",
   "metadata": {},
   "outputs": [],
   "source": [
    "final = output.filter(lambda x: x>= 13)\n"
   ]
  },
  {
   "cell_type": "code",
   "execution_count": 76,
   "id": "5d098609",
   "metadata": {},
   "outputs": [
    {
     "data": {
      "text/plain": [
       "[15.0, 14.000000000000002, 13.0, 13.0]"
      ]
     },
     "execution_count": 76,
     "metadata": {},
     "output_type": "execute_result"
    }
   ],
   "source": [
    "final.collect()"
   ]
  }
 ],
 "metadata": {
  "kernelspec": {
   "display_name": "Python 3 (ipykernel)",
   "language": "python",
   "name": "python3"
  },
  "language_info": {
   "codemirror_mode": {
    "name": "ipython",
    "version": 3
   },
   "file_extension": ".py",
   "mimetype": "text/x-python",
   "name": "python",
   "nbconvert_exporter": "python",
   "pygments_lexer": "ipython3",
   "version": "3.10.9"
  },
  "toc": {
   "base_numbering": 1,
   "nav_menu": {},
   "number_sections": true,
   "sideBar": true,
   "skip_h1_title": false,
   "title_cell": "Table of Contents",
   "title_sidebar": "Contents",
   "toc_cell": false,
   "toc_position": {},
   "toc_section_display": true,
   "toc_window_display": false
  }
 },
 "nbformat": 4,
 "nbformat_minor": 5
}
